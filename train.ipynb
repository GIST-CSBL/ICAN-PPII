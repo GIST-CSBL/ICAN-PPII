{
 "cells": [
  {
   "cell_type": "markdown",
   "id": "45eb7757",
   "metadata": {},
   "source": [
    "# Model Training Notebook\n",
    "- This notebook provides a guide to reproduce the results of the model or fine-tune the model. \n",
    "- It includes preprocessing, data loading, and model training."
   ]
  },
  {
   "cell_type": "code",
   "execution_count": 1,
   "id": "75b538af",
   "metadata": {},
   "outputs": [
    {
     "name": "stderr",
     "output_type": "stream",
     "text": [
      "2024-10-29 10:03:38 | unimol_tools/weights/weighthub.py | 17 | INFO | Uni-Mol Tools | Weights will be downloaded to default directory: /data/dongok/anaconda3/envs/unimol/lib/python3.9/site-packages/unimol_tools/weights\n"
     ]
    }
   ],
   "source": [
    "import os\n",
    "import tqdm\n",
    "import numpy as np\n",
    "import pandas as pd\n",
    "import random \n",
    "import copy\n",
    "\n",
    "import torch\n",
    "from torch import nn\n",
    "from torch.utils.data import DataLoader\n",
    "\n",
    "from unimol_tools import utils\n",
    "from unimol_tools.data import DataHub\n",
    "from unimol_tools.models import UniMolModel\n",
    "\n",
    "from src.dataset import PPIInhibitorDataset, process_interface\n",
    "from src.model import PPIInhibitorModel\n",
    "from src.utils import train, predict, performance_evaluation, batch_collate_fn"
   ]
  },
  {
   "cell_type": "code",
   "execution_count": 2,
   "id": "681c28a1",
   "metadata": {},
   "outputs": [],
   "source": [
    "os.environ[\"CUDA_DEVICE_ORDER\"] = \"PCI_BUS_ID\"   \n",
    "os.environ[\"CUDA_VISIBLE_DEVICES\"] = \"1\""
   ]
  },
  {
   "cell_type": "code",
   "execution_count": 3,
   "id": "1856bb67",
   "metadata": {},
   "outputs": [],
   "source": [
    "if torch.cuda.is_available():\n",
    "    device = torch.device(\"cuda\")\n",
    "else:\n",
    "    device = torch.device(\"cpu\")"
   ]
  },
  {
   "cell_type": "code",
   "execution_count": 4,
   "id": "d4692e64",
   "metadata": {},
   "outputs": [],
   "source": [
    "seed = 2022 \n",
    "random.seed(seed)\n",
    "np.random.seed(seed)\n",
    "torch.manual_seed(seed)\n",
    "torch.cuda.manual_seed_all(seed)"
   ]
  },
  {
   "cell_type": "code",
   "execution_count": 5,
   "id": "3fc3d7a2",
   "metadata": {},
   "outputs": [],
   "source": [
    "#config\n",
    "batch_size = 64\n",
    "learning_rate = 5e-4\n",
    "num_epochs = 70"
   ]
  },
  {
   "cell_type": "code",
   "execution_count": 6,
   "id": "520ea8a4",
   "metadata": {},
   "outputs": [],
   "source": [
    "#preprocess interface infomation\n",
    "process_interface('data/ppi_interface.csv').to_csv('data/processed_interface.csv')"
   ]
  },
  {
   "cell_type": "code",
   "execution_count": 7,
   "id": "1ddeb678",
   "metadata": {},
   "outputs": [],
   "source": [
    "#dataloader\n",
    "\n",
    "#S1 (Unseen Interaction): Interactions between PPIs and compounds are not seen during training, while both PPIs and compounds are seen individually.\n",
    "#S2 (Unseen Compound): Compounds are not seen during training; PPIs are seen.\n",
    "#S3 (Unseen PPI): PPIs are not seen during training; compounds are seen.\n",
    "#S4 (Unseen Both): Both PPIs and compounds are not seen during training.\n",
    "\n",
    "eval_setting = 'S1'\n",
    "fold = 1\n",
    "\n",
    "train_dataset = PPIInhibitorDataset(f'data/folds/{eval_setting}/train_fold{fold}.csv', device)  \n",
    "valid_dataset = PPIInhibitorDataset(f'data/folds/{eval_setting}/valid_fold{fold}.csv', device)\n",
    "test_dataset = PPIInhibitorDataset(f'data/folds/{eval_setting}/test_fold{fold}.csv', device)\n",
    "\n",
    "train_dataloader = DataLoader(train_dataset, batch_size=batch_size, shuffle=True, drop_last=False, collate_fn=batch_collate_fn)\n",
    "valid_dataloader = DataLoader(valid_dataset, batch_size=batch_size, shuffle=False, drop_last=False, collate_fn=batch_collate_fn)\n",
    "test_dataloader = DataLoader(test_dataset, batch_size=batch_size, shuffle=False, drop_last=False, collate_fn=batch_collate_fn)"
   ]
  },
  {
   "cell_type": "code",
   "execution_count": 8,
   "id": "91433770",
   "metadata": {},
   "outputs": [
    {
     "name": "stderr",
     "output_type": "stream",
     "text": [
      "2024-10-29 10:04:00 | unimol_tools/models/unimol.py | 120 | INFO | Uni-Mol Tools | Loading pretrained weights from /data/dongok/anaconda3/envs/unimol/lib/python3.9/site-packages/unimol_tools/weights/mol_pre_all_h_220816.pt\n",
      "2024-10-29 10:04:01 | unimol_tools/models/unimol.py | 120 | INFO | Uni-Mol Tools | Loading pretrained weights from src/weights/mol_pre_all_h_220816.pt\n"
     ]
    }
   ],
   "source": [
    "#model\n",
    "compound_model = UniMolModel()\n",
    "unimol_path = 'src/weights/mol_pre_all_h_220816.pt'\n",
    "compound_model.load_pretrained_weights(unimol_path)\n",
    "\n",
    "model = PPIInhibitorModel(compound_model).to(device)\n",
    "\n",
    "for name, param in model.named_parameters():\n",
    "    param.requires_grad = True\n",
    "\n",
    "    for layer in ['compound_model']:\n",
    "        if layer in name:\n",
    "            param.requires_grad = False\n",
    "\n",
    "    for layer in ['encoder.layers.14']:\n",
    "        if layer in name:\n",
    "            param.requires_grad = True\n",
    "\n",
    "    #print(name, param.requires_grad)\n",
    "    \n",
    "criterion = nn.BCEWithLogitsLoss()\n",
    "optimizer = torch.optim.Adam(model.parameters(), lr=learning_rate)"
   ]
  },
  {
   "cell_type": "code",
   "execution_count": null,
   "id": "385cc566",
   "metadata": {},
   "outputs": [],
   "source": [
    "#training loop\n",
    "best_model = None\n",
    "best_auc = 0\n",
    "best_epoch = 0\n",
    "\n",
    "tr_aucs = []\n",
    "tr_auprs = []\n",
    "tr_losses = []\n",
    "\n",
    "val_aucs = []\n",
    "val_auprs = []\n",
    "\n",
    "for epoch in range(num_epochs):\n",
    "    print('Epoch {}'.format(epoch))\n",
    "\n",
    "    label, pred, tr_loss = train(model, train_dataloader, optimizer, criterion, device)\n",
    "    current_auc, current_aupr = performance_evaluation(label, pred)\n",
    "    print('Train AUC:\\t{}'.format(current_auc))\n",
    "    print('Train AUPR:\\t{}'.format(current_aupr))\n",
    "    \n",
    "    tr_aucs.append(current_auc)\n",
    "    tr_auprs.append(current_aupr)\n",
    "    tr_losses.append(tr_loss)\n",
    "\n",
    "\n",
    "    label, pred = predict(model, valid_dataloader, device)\n",
    "    current_auc, current_aupr = performance_evaluation(label, pred)\n",
    "    print('Val AUC:\\t{}'.format(current_auc))\n",
    "    print('Val AUPR:\\t{}'.format(current_aupr))\n",
    "    \n",
    "    if current_auc > best_auc:\n",
    "        best_model = copy.deepcopy(model)\n",
    "        best_auc = current_auc\n",
    "        best_epoch = epoch\n",
    "        print('AUC is improved at epoch {}\\tbest AUC: {}'.format(best_epoch, best_auc))\n",
    "\n",
    "    val_aucs.append(current_auc)\n",
    "    val_auprs.append(current_aupr)"
   ]
  },
  {
   "cell_type": "code",
   "execution_count": null,
   "id": "73bf287d",
   "metadata": {},
   "outputs": [],
   "source": [
    "#save the best model\n",
    "torch.save(best_model.state_dict(), 'best_model.model')"
   ]
  }
 ],
 "metadata": {
  "kernelspec": {
   "display_name": "unimol",
   "language": "python",
   "name": "unimol"
  },
  "language_info": {
   "codemirror_mode": {
    "name": "ipython",
    "version": 3
   },
   "file_extension": ".py",
   "mimetype": "text/x-python",
   "name": "python",
   "nbconvert_exporter": "python",
   "pygments_lexer": "ipython3",
   "version": "3.9.19"
  }
 },
 "nbformat": 4,
 "nbformat_minor": 5
}
