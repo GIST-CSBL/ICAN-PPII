{
 "cells": [
  {
   "cell_type": "markdown",
   "id": "45eb7757",
   "metadata": {},
   "source": [
    "# Inference Notebook\n",
    "- This notebook provides a guide to predict the PPI inhibitors with your custom dataset.\n",
    "- It includes preprocessing, data loading, and model inference."
   ]
  },
  {
   "cell_type": "code",
   "execution_count": 1,
   "id": "75b538af",
   "metadata": {},
   "outputs": [
    {
     "name": "stderr",
     "output_type": "stream",
     "text": [
      "2024-10-29 17:11:36 | unimol_tools/weights/weighthub.py | 17 | INFO | Uni-Mol Tools | Weights will be downloaded to default directory: /data/dongok/anaconda3/envs/unimol/lib/python3.9/site-packages/unimol_tools/weights\n"
     ]
    }
   ],
   "source": [
    "import os\n",
    "import tqdm\n",
    "import numpy as np\n",
    "import pandas as pd\n",
    "import random \n",
    "import copy\n",
    "import pickle\n",
    "\n",
    "import torch\n",
    "from torch import nn\n",
    "from torch.utils.data import DataLoader\n",
    "\n",
    "from unimol_tools import utils\n",
    "from unimol_tools.data import DataHub\n",
    "from unimol_tools.models import UniMolModel\n",
    "\n",
    "from src.dataset import PPIInhibitorInferenceDataset, process_interface, calculate_physicochemical_properties\n",
    "from src.model import PPIInhibitorModel\n",
    "from src.utils import predict, performance_evaluation, batch_collate_fn"
   ]
  },
  {
   "cell_type": "code",
   "execution_count": 2,
   "id": "681c28a1",
   "metadata": {},
   "outputs": [],
   "source": [
    "os.environ[\"CUDA_DEVICE_ORDER\"] = \"PCI_BUS_ID\"   \n",
    "os.environ[\"CUDA_VISIBLE_DEVICES\"] = \"1\""
   ]
  },
  {
   "cell_type": "code",
   "execution_count": 3,
   "id": "1856bb67",
   "metadata": {},
   "outputs": [],
   "source": [
    "if torch.cuda.is_available():\n",
    "    device = torch.device(\"cuda\")\n",
    "else:\n",
    "    device = torch.device(\"cpu\")"
   ]
  },
  {
   "cell_type": "code",
   "execution_count": 4,
   "id": "d4692e64",
   "metadata": {},
   "outputs": [],
   "source": [
    "seed = 2022 \n",
    "random.seed(seed)\n",
    "np.random.seed(seed)\n",
    "torch.manual_seed(seed)\n",
    "torch.cuda.manual_seed_all(seed)"
   ]
  },
  {
   "cell_type": "code",
   "execution_count": 5,
   "id": "3fc3d7a2",
   "metadata": {},
   "outputs": [],
   "source": [
    "batch_size = 64"
   ]
  },
  {
   "cell_type": "code",
   "execution_count": 6,
   "id": "a540f37f",
   "metadata": {},
   "outputs": [
    {
     "data": {
      "text/html": [
       "<div>\n",
       "<style scoped>\n",
       "    .dataframe tbody tr th:only-of-type {\n",
       "        vertical-align: middle;\n",
       "    }\n",
       "\n",
       "    .dataframe tbody tr th {\n",
       "        vertical-align: top;\n",
       "    }\n",
       "\n",
       "    .dataframe thead th {\n",
       "        text-align: right;\n",
       "    }\n",
       "</style>\n",
       "<table border=\"1\" class=\"dataframe\">\n",
       "  <thead>\n",
       "    <tr style=\"text-align: right;\">\n",
       "      <th></th>\n",
       "      <th>SMILES</th>\n",
       "      <th>ppi_label</th>\n",
       "      <th>uniprot_id1</th>\n",
       "      <th>uniprot_id2</th>\n",
       "    </tr>\n",
       "  </thead>\n",
       "  <tbody>\n",
       "    <tr>\n",
       "      <th>0</th>\n",
       "      <td>COc1cc(Cc2cnc(N)nc2N)cc(OC)c1N(C)C</td>\n",
       "      <td>10.0</td>\n",
       "      <td>Q01196</td>\n",
       "      <td>Q13951</td>\n",
       "    </tr>\n",
       "    <tr>\n",
       "      <th>1</th>\n",
       "      <td>O=C(CS(=O)C(c1ccccc1)c1ccccc1)NO</td>\n",
       "      <td>10.0</td>\n",
       "      <td>Q01196</td>\n",
       "      <td>Q13951</td>\n",
       "    </tr>\n",
       "    <tr>\n",
       "      <th>2</th>\n",
       "      <td>OC1C=C2CCN3Cc4cc5c(cc4C(C1O)C23)OCO5</td>\n",
       "      <td>10.0</td>\n",
       "      <td>Q01196</td>\n",
       "      <td>Q13951</td>\n",
       "    </tr>\n",
       "    <tr>\n",
       "      <th>3</th>\n",
       "      <td>OC1C=C2CCN3Cc4cc5c(cc4C(C1O)C23)OCO5</td>\n",
       "      <td>10.0</td>\n",
       "      <td>Q01196</td>\n",
       "      <td>Q13951</td>\n",
       "    </tr>\n",
       "    <tr>\n",
       "      <th>4</th>\n",
       "      <td>NC(CCc1ccc(N(CCCl)CCCl)cc1)C(=O)O</td>\n",
       "      <td>10.0</td>\n",
       "      <td>Q01196</td>\n",
       "      <td>Q13951</td>\n",
       "    </tr>\n",
       "  </tbody>\n",
       "</table>\n",
       "</div>"
      ],
      "text/plain": [
       "                                 SMILES  ppi_label uniprot_id1 uniprot_id2\n",
       "0    COc1cc(Cc2cnc(N)nc2N)cc(OC)c1N(C)C       10.0      Q01196      Q13951\n",
       "1      O=C(CS(=O)C(c1ccccc1)c1ccccc1)NO       10.0      Q01196      Q13951\n",
       "2  OC1C=C2CCN3Cc4cc5c(cc4C(C1O)C23)OCO5       10.0      Q01196      Q13951\n",
       "3  OC1C=C2CCN3Cc4cc5c(cc4C(C1O)C23)OCO5       10.0      Q01196      Q13951\n",
       "4     NC(CCc1ccc(N(CCCl)CCCl)cc1)C(=O)O       10.0      Q01196      Q13951"
      ]
     },
     "execution_count": 6,
     "metadata": {},
     "output_type": "execute_result"
    }
   ],
   "source": [
    "#load your dataset\n",
    "datapath = 'data/toy_example/toy_example.csv'\n",
    "df = pd.read_csv(datapath)\n",
    "df.head()"
   ]
  },
  {
   "cell_type": "code",
   "execution_count": 7,
   "id": "46ba8b7e",
   "metadata": {},
   "outputs": [
    {
     "name": "stderr",
     "output_type": "stream",
     "text": [
      "2024-10-29 17:11:38 | unimol_tools/data/conformer.py | 89 | INFO | Uni-Mol Tools | Start generating conformers...\n",
      "10it [00:00, 75.95it/s]\n",
      "2024-10-29 17:11:38 | unimol_tools/data/conformer.py | 93 | INFO | Uni-Mol Tools | Failed to generate conformers for 0.00% of molecules.\n",
      "2024-10-29 17:11:38 | unimol_tools/data/conformer.py | 95 | INFO | Uni-Mol Tools | Failed to generate 3d conformers for 0.00% of molecules.\n"
     ]
    }
   ],
   "source": [
    "#preprocess compounds for efficient inference with UniMol\n",
    "smiles_list = df.SMILES.tolist()\n",
    "\n",
    "datahub = DataHub(data=smiles_list, task='repr')\n",
    "unimol_input = datahub.data['unimol_input']\n",
    "\n",
    "src_tokens_dict = {smiles_list[i]: unimol_input[i]['src_tokens'] for i in range(len(smiles_list))}\n",
    "with open('data/toy_example/src_tokens_dict.pickle', 'wb') as f:\n",
    "    pickle.dump(src_tokens_dict, f)\n",
    "    \n",
    "src_distance_dict = {smiles_list[i]: unimol_input[i]['src_distance'] for i in range(len(smiles_list))}\n",
    "with open('data/toy_example/src_distance_dict.pickle', 'wb') as f:\n",
    "    pickle.dump(src_distance_dict, f)\n",
    "    \n",
    "src_coord_dict = {smiles_list[i]: unimol_input[i]['src_coord'] for i in range(len(smiles_list))}\n",
    "with open('data/toy_example/src_coord_dict.pickle', 'wb') as f:\n",
    "    pickle.dump(src_coord_dict, f)\n",
    "    \n",
    "src_edge_type_dict = {smiles_list[i]: unimol_input[i]['src_edge_type'] for i in range(len(smiles_list))}\n",
    "with open('data/toy_example/src_edge_type_dict.pickle', 'wb') as f:\n",
    "    pickle.dump(src_edge_type_dict, f)"
   ]
  },
  {
   "cell_type": "code",
   "execution_count": 8,
   "id": "3423f9aa",
   "metadata": {},
   "outputs": [],
   "source": [
    "#preprocess the physicochemical properties of compounds\n",
    "compound_phy = calculate_physicochemical_properties(smiles_list)\n",
    "\n",
    "with open('data/toy_example/compound_phy.pickle', 'wb') as f:\n",
    "    pickle.dump(compound_phy, f)"
   ]
  },
  {
   "cell_type": "code",
   "execution_count": 9,
   "id": "520ea8a4",
   "metadata": {},
   "outputs": [],
   "source": [
    "#preprocess interface infomation\n",
    "process_interface('data/toy_example/ppi_interface.csv').to_csv('data/toy_example/processed_interface.csv')"
   ]
  },
  {
   "cell_type": "code",
   "execution_count": 10,
   "id": "566edc4d",
   "metadata": {},
   "outputs": [
    {
     "data": {
      "text/html": [
       "<div>\n",
       "<style scoped>\n",
       "    .dataframe tbody tr th:only-of-type {\n",
       "        vertical-align: middle;\n",
       "    }\n",
       "\n",
       "    .dataframe tbody tr th {\n",
       "        vertical-align: top;\n",
       "    }\n",
       "\n",
       "    .dataframe thead th {\n",
       "        text-align: right;\n",
       "    }\n",
       "</style>\n",
       "<table border=\"1\" class=\"dataframe\">\n",
       "  <thead>\n",
       "    <tr style=\"text-align: right;\">\n",
       "      <th></th>\n",
       "      <th>uniprot_id1</th>\n",
       "      <th>uniprot_id2</th>\n",
       "      <th>ppi_label</th>\n",
       "      <th>uniprot_sequence1</th>\n",
       "      <th>uniprot_sequence2</th>\n",
       "      <th>interface_idx1</th>\n",
       "      <th>interface_idx2</th>\n",
       "      <th>min_index1</th>\n",
       "      <th>max_index1</th>\n",
       "      <th>min_index2</th>\n",
       "      <th>max_index2</th>\n",
       "    </tr>\n",
       "  </thead>\n",
       "  <tbody>\n",
       "    <tr>\n",
       "      <th>0</th>\n",
       "      <td>Q01196</td>\n",
       "      <td>Q13951</td>\n",
       "      <td>10</td>\n",
       "      <td>MRIPVDASTSRRFTPPSTALSPGKMSEALPLGAPDAGAALAGKLRS...</td>\n",
       "      <td>MPRVVPDQRSKFENEEFFRKLSRECEIKYTGFRDRPHEERQARFQN...</td>\n",
       "      <td>[65, 66, 67, 68, 93, 94, 95, 103, 105, 106, 10...</td>\n",
       "      <td>[1, 2, 3, 4, 10, 16, 27, 28, 29, 32, 33, 53, 5...</td>\n",
       "      <td>65</td>\n",
       "      <td>162</td>\n",
       "      <td>1</td>\n",
       "      <td>130</td>\n",
       "    </tr>\n",
       "  </tbody>\n",
       "</table>\n",
       "</div>"
      ],
      "text/plain": [
       "  uniprot_id1 uniprot_id2  ppi_label  \\\n",
       "0      Q01196      Q13951         10   \n",
       "\n",
       "                                   uniprot_sequence1  \\\n",
       "0  MRIPVDASTSRRFTPPSTALSPGKMSEALPLGAPDAGAALAGKLRS...   \n",
       "\n",
       "                                   uniprot_sequence2  \\\n",
       "0  MPRVVPDQRSKFENEEFFRKLSRECEIKYTGFRDRPHEERQARFQN...   \n",
       "\n",
       "                                      interface_idx1  \\\n",
       "0  [65, 66, 67, 68, 93, 94, 95, 103, 105, 106, 10...   \n",
       "\n",
       "                                      interface_idx2  min_index1  max_index1  \\\n",
       "0  [1, 2, 3, 4, 10, 16, 27, 28, 29, 32, 33, 53, 5...          65         162   \n",
       "\n",
       "   min_index2  max_index2  \n",
       "0           1         130  "
      ]
     },
     "execution_count": 10,
     "metadata": {},
     "output_type": "execute_result"
    }
   ],
   "source": [
    "pd.read_csv('data/toy_example/ppi_interface.csv').head()"
   ]
  },
  {
   "cell_type": "code",
   "execution_count": 11,
   "id": "1ddeb678",
   "metadata": {
    "scrolled": true
   },
   "outputs": [],
   "source": [
    "#dataloader\n",
    "dataset = PPIInhibitorInferenceDataset(datapath, device)  \n",
    "dataloader = DataLoader(dataset, batch_size=batch_size, shuffle=False, drop_last=False, collate_fn=batch_collate_fn)"
   ]
  },
  {
   "cell_type": "code",
   "execution_count": 12,
   "id": "ea8db264",
   "metadata": {},
   "outputs": [
    {
     "name": "stderr",
     "output_type": "stream",
     "text": [
      "2024-10-29 17:11:39 | unimol_tools/models/unimol.py | 120 | INFO | Uni-Mol Tools | Loading pretrained weights from /data/dongok/anaconda3/envs/unimol/lib/python3.9/site-packages/unimol_tools/weights/mol_pre_all_h_220816.pt\n"
     ]
    },
    {
     "data": {
      "text/plain": [
       "<All keys matched successfully>"
      ]
     },
     "execution_count": 12,
     "metadata": {},
     "output_type": "execute_result"
    }
   ],
   "source": [
    "#model\n",
    "compound_model = UniMolModel()\n",
    "model = PPIInhibitorModel(compound_model).to(device)\n",
    "\n",
    "model_path = 'src/weights/weights.model'\n",
    "best_state_dict = torch.load(model_path)\n",
    "model.load_state_dict(best_state_dict, strict=False)"
   ]
  },
  {
   "cell_type": "code",
   "execution_count": 13,
   "id": "2a2cbd19",
   "metadata": {},
   "outputs": [
    {
     "name": "stderr",
     "output_type": "stream",
     "text": [
      "100%|██████████| 1/1 [00:00<00:00,  1.34it/s]\n"
     ]
    }
   ],
   "source": [
    "_, pred = predict(model, dataloader, device)\n",
    "pred_score = torch.sigmoid(torch.from_numpy(pred))"
   ]
  },
  {
   "cell_type": "code",
   "execution_count": 14,
   "id": "2d02dc23",
   "metadata": {},
   "outputs": [
    {
     "data": {
      "text/plain": [
       "tensor([0.2695, 0.8828, 0.5868, 0.5868, 0.9703, 0.0319, 0.4410, 0.0217, 0.1442,\n",
       "        0.6137])"
      ]
     },
     "execution_count": 14,
     "metadata": {},
     "output_type": "execute_result"
    }
   ],
   "source": [
    "pred_score"
   ]
  },
  {
   "cell_type": "code",
   "execution_count": null,
   "id": "2c193ef8",
   "metadata": {},
   "outputs": [],
   "source": []
  }
 ],
 "metadata": {
  "kernelspec": {
   "display_name": "unimol",
   "language": "python",
   "name": "unimol"
  },
  "language_info": {
   "codemirror_mode": {
    "name": "ipython",
    "version": 3
   },
   "file_extension": ".py",
   "mimetype": "text/x-python",
   "name": "python",
   "nbconvert_exporter": "python",
   "pygments_lexer": "ipython3",
   "version": "3.9.19"
  }
 },
 "nbformat": 4,
 "nbformat_minor": 5
}
